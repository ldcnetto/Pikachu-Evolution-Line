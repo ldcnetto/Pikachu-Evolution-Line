{
  "nbformat": 4,
  "nbformat_minor": 0,
  "metadata": {
    "colab": {
      "provenance": [],
      "collapsed_sections": []
    },
    "kernelspec": {
      "name": "python3",
      "display_name": "Python 3"
    },
    "language_info": {
      "name": "python"
    },
    "accelerator": "GPU",
    "widgets": {
      "application/vnd.jupyter.widget-state+json": {
        "f5bd8e8dec4248d9b7ff63f6e2911c73": {
          "model_module": "@jupyter-widgets/controls",
          "model_name": "VBoxModel",
          "model_module_version": "1.5.0",
          "state": {
            "_dom_classes": [],
            "_model_module": "@jupyter-widgets/controls",
            "_model_module_version": "1.5.0",
            "_model_name": "VBoxModel",
            "_view_count": null,
            "_view_module": "@jupyter-widgets/controls",
            "_view_module_version": "1.5.0",
            "_view_name": "VBoxView",
            "box_style": "",
            "children": [
              "IPY_MODEL_e5a37419c6424cd0bea9a3345547e411",
              "IPY_MODEL_6bc025daccc24b9c8fa1bb6f6dfb0871",
              "IPY_MODEL_635719694a164b2dacaba91e84104d8d"
            ],
            "layout": "IPY_MODEL_ba07557bc24e4ab886fd2bd33af38441"
          }
        },
        "e5a37419c6424cd0bea9a3345547e411": {
          "model_module": "@jupyter-widgets/controls",
          "model_name": "FileUploadModel",
          "model_module_version": "1.5.0",
          "state": {
            "_counter": 1,
            "_dom_classes": [],
            "_model_module": "@jupyter-widgets/controls",
            "_model_module_version": "1.5.0",
            "_model_name": "FileUploadModel",
            "_view_count": null,
            "_view_module": "@jupyter-widgets/controls",
            "_view_module_version": "1.5.0",
            "_view_name": "FileUploadView",
            "accept": "",
            "button_style": "",
            "data": [
              null
            ],
            "description": "Upload",
            "description_tooltip": null,
            "disabled": false,
            "error": "",
            "icon": "upload",
            "layout": "IPY_MODEL_cc592e70509549b38f03bcba71cef022",
            "metadata": [
              {
                "name": "pichu.png",
                "type": "image/png",
                "size": 122831,
                "lastModified": 1666984965910
              }
            ],
            "multiple": false,
            "style": "IPY_MODEL_f12b93260b7a467aa0f25a33391ae329"
          }
        },
        "6bc025daccc24b9c8fa1bb6f6dfb0871": {
          "model_module": "@jupyter-widgets/output",
          "model_name": "OutputModel",
          "model_module_version": "1.0.0",
          "state": {
            "_dom_classes": [],
            "_model_module": "@jupyter-widgets/output",
            "_model_module_version": "1.0.0",
            "_model_name": "OutputModel",
            "_view_count": null,
            "_view_module": "@jupyter-widgets/output",
            "_view_module_version": "1.0.0",
            "_view_name": "OutputView",
            "layout": "IPY_MODEL_31cb676f9ce1458199abd8889ccf784f",
            "msg_id": "",
            "outputs": [
              {
                "output_type": "display_data",
                "data": {
                  "text/plain": "<PIL.Image.Image image mode=RGB size=128x128>",
                  "image/png": "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\n"
                },
                "metadata": {}
              }
            ]
          }
        },
        "635719694a164b2dacaba91e84104d8d": {
          "model_module": "@jupyter-widgets/controls",
          "model_name": "LabelModel",
          "model_module_version": "1.5.0",
          "state": {
            "_dom_classes": [],
            "_model_module": "@jupyter-widgets/controls",
            "_model_module_version": "1.5.0",
            "_model_name": "LabelModel",
            "_view_count": null,
            "_view_module": "@jupyter-widgets/controls",
            "_view_module_version": "1.5.0",
            "_view_name": "LabelView",
            "description": "",
            "description_tooltip": null,
            "layout": "IPY_MODEL_e5b85e3e90ce4e4bb1fbee6fdce19250",
            "placeholder": "​",
            "style": "IPY_MODEL_dcdb8efd9654429594f850d4a1de123f",
            "value": "Prediction: Pichu; Probability: 0.9999"
          }
        },
        "ba07557bc24e4ab886fd2bd33af38441": {
          "model_module": "@jupyter-widgets/base",
          "model_name": "LayoutModel",
          "model_module_version": "1.2.0",
          "state": {
            "_model_module": "@jupyter-widgets/base",
            "_model_module_version": "1.2.0",
            "_model_name": "LayoutModel",
            "_view_count": null,
            "_view_module": "@jupyter-widgets/base",
            "_view_module_version": "1.2.0",
            "_view_name": "LayoutView",
            "align_content": null,
            "align_items": null,
            "align_self": null,
            "border": null,
            "bottom": null,
            "display": null,
            "flex": null,
            "flex_flow": null,
            "grid_area": null,
            "grid_auto_columns": null,
            "grid_auto_flow": null,
            "grid_auto_rows": null,
            "grid_column": null,
            "grid_gap": null,
            "grid_row": null,
            "grid_template_areas": null,
            "grid_template_columns": null,
            "grid_template_rows": null,
            "height": null,
            "justify_content": null,
            "justify_items": null,
            "left": null,
            "margin": null,
            "max_height": null,
            "max_width": null,
            "min_height": null,
            "min_width": null,
            "object_fit": null,
            "object_position": null,
            "order": null,
            "overflow": null,
            "overflow_x": null,
            "overflow_y": null,
            "padding": null,
            "right": null,
            "top": null,
            "visibility": null,
            "width": null
          }
        },
        "cc592e70509549b38f03bcba71cef022": {
          "model_module": "@jupyter-widgets/base",
          "model_name": "LayoutModel",
          "model_module_version": "1.2.0",
          "state": {
            "_model_module": "@jupyter-widgets/base",
            "_model_module_version": "1.2.0",
            "_model_name": "LayoutModel",
            "_view_count": null,
            "_view_module": "@jupyter-widgets/base",
            "_view_module_version": "1.2.0",
            "_view_name": "LayoutView",
            "align_content": null,
            "align_items": null,
            "align_self": null,
            "border": null,
            "bottom": null,
            "display": null,
            "flex": null,
            "flex_flow": null,
            "grid_area": null,
            "grid_auto_columns": null,
            "grid_auto_flow": null,
            "grid_auto_rows": null,
            "grid_column": null,
            "grid_gap": null,
            "grid_row": null,
            "grid_template_areas": null,
            "grid_template_columns": null,
            "grid_template_rows": null,
            "height": null,
            "justify_content": null,
            "justify_items": null,
            "left": null,
            "margin": null,
            "max_height": null,
            "max_width": null,
            "min_height": null,
            "min_width": null,
            "object_fit": null,
            "object_position": null,
            "order": null,
            "overflow": null,
            "overflow_x": null,
            "overflow_y": null,
            "padding": null,
            "right": null,
            "top": null,
            "visibility": null,
            "width": null
          }
        },
        "f12b93260b7a467aa0f25a33391ae329": {
          "model_module": "@jupyter-widgets/controls",
          "model_name": "ButtonStyleModel",
          "model_module_version": "1.5.0",
          "state": {
            "_model_module": "@jupyter-widgets/controls",
            "_model_module_version": "1.5.0",
            "_model_name": "ButtonStyleModel",
            "_view_count": null,
            "_view_module": "@jupyter-widgets/base",
            "_view_module_version": "1.2.0",
            "_view_name": "StyleView",
            "button_color": null,
            "font_weight": ""
          }
        },
        "e5b85e3e90ce4e4bb1fbee6fdce19250": {
          "model_module": "@jupyter-widgets/base",
          "model_name": "LayoutModel",
          "model_module_version": "1.2.0",
          "state": {
            "_model_module": "@jupyter-widgets/base",
            "_model_module_version": "1.2.0",
            "_model_name": "LayoutModel",
            "_view_count": null,
            "_view_module": "@jupyter-widgets/base",
            "_view_module_version": "1.2.0",
            "_view_name": "LayoutView",
            "align_content": null,
            "align_items": null,
            "align_self": null,
            "border": null,
            "bottom": null,
            "display": null,
            "flex": null,
            "flex_flow": null,
            "grid_area": null,
            "grid_auto_columns": null,
            "grid_auto_flow": null,
            "grid_auto_rows": null,
            "grid_column": null,
            "grid_gap": null,
            "grid_row": null,
            "grid_template_areas": null,
            "grid_template_columns": null,
            "grid_template_rows": null,
            "height": null,
            "justify_content": null,
            "justify_items": null,
            "left": null,
            "margin": null,
            "max_height": null,
            "max_width": null,
            "min_height": null,
            "min_width": null,
            "object_fit": null,
            "object_position": null,
            "order": null,
            "overflow": null,
            "overflow_x": null,
            "overflow_y": null,
            "padding": null,
            "right": null,
            "top": null,
            "visibility": null,
            "width": null
          }
        },
        "dcdb8efd9654429594f850d4a1de123f": {
          "model_module": "@jupyter-widgets/controls",
          "model_name": "DescriptionStyleModel",
          "model_module_version": "1.5.0",
          "state": {
            "_model_module": "@jupyter-widgets/controls",
            "_model_module_version": "1.5.0",
            "_model_name": "DescriptionStyleModel",
            "_view_count": null,
            "_view_module": "@jupyter-widgets/base",
            "_view_module_version": "1.2.0",
            "_view_name": "StyleView",
            "description_width": ""
          }
        },
        "31cb676f9ce1458199abd8889ccf784f": {
          "model_module": "@jupyter-widgets/base",
          "model_name": "LayoutModel",
          "model_module_version": "1.2.0",
          "state": {
            "_model_module": "@jupyter-widgets/base",
            "_model_module_version": "1.2.0",
            "_model_name": "LayoutModel",
            "_view_count": null,
            "_view_module": "@jupyter-widgets/base",
            "_view_module_version": "1.2.0",
            "_view_name": "LayoutView",
            "align_content": null,
            "align_items": null,
            "align_self": null,
            "border": null,
            "bottom": null,
            "display": null,
            "flex": null,
            "flex_flow": null,
            "grid_area": null,
            "grid_auto_columns": null,
            "grid_auto_flow": null,
            "grid_auto_rows": null,
            "grid_column": null,
            "grid_gap": null,
            "grid_row": null,
            "grid_template_areas": null,
            "grid_template_columns": null,
            "grid_template_rows": null,
            "height": null,
            "justify_content": null,
            "justify_items": null,
            "left": null,
            "margin": null,
            "max_height": null,
            "max_width": null,
            "min_height": null,
            "min_width": null,
            "object_fit": null,
            "object_position": null,
            "order": null,
            "overflow": null,
            "overflow_x": null,
            "overflow_y": null,
            "padding": null,
            "right": null,
            "top": null,
            "visibility": null,
            "width": null
          }
        }
      }
    }
  },
  "cells": [
    {
      "cell_type": "markdown",
      "source": [
        "# Pikachu evolutionary line"
      ],
      "metadata": {
        "id": "MNuc1fldPNQQ"
      }
    },
    {
      "cell_type": "code",
      "execution_count": 1,
      "metadata": {
        "id": "yxi_mlhdHuiC"
      },
      "outputs": [],
      "source": [
        "from fastai.vision.all import *\n",
        "from fastai.vision.widgets import *"
      ]
    },
    {
      "cell_type": "code",
      "source": [
        "#import pkl file\n",
        "path = Path()\n",
        "learn_inf = load_learner(path/'export.pkl', cpu=True)"
      ],
      "metadata": {
        "id": "W26l4DkTIGYa"
      },
      "execution_count": 2,
      "outputs": []
    },
    {
      "cell_type": "code",
      "source": [
        "#widgets\n",
        "upload = widgets.FileUpload()\n",
        "output = widgets.Output()\n",
        "predictor = widgets.Label()"
      ],
      "metadata": {
        "id": "4GXtjdHsxIhq"
      },
      "execution_count": 3,
      "outputs": []
    },
    {
      "cell_type": "code",
      "source": [
        "print('Pikachu evolutionary line')\n",
        "print('Select your Pokémon type between Pichu, Pikachu and Raichu')\n",
        "\n",
        "def pokemon(change):\n",
        "    predictor.value = ''\n",
        "    img = PILImage.create(upload.data[-1])\n",
        "    output.clear_output()\n",
        "    with output: display(img.to_thumb(128,128))\n",
        "    pred,pred_idx,probs = learn_inf.predict(img)\n",
        "    predictor.value = f'Prediction: {pred}; Probability: {probs[pred_idx]:.04f}'\n",
        "\n",
        "upload.observe(pokemon, names=['data'])\n",
        "\n",
        "display(VBox([upload, output, predictor]))"
      ],
      "metadata": {
        "id": "b0mHL7zsIJIS",
        "colab": {
          "base_uri": "https://localhost:8080/",
          "height": 246,
          "referenced_widgets": [
            "f5bd8e8dec4248d9b7ff63f6e2911c73",
            "e5a37419c6424cd0bea9a3345547e411",
            "6bc025daccc24b9c8fa1bb6f6dfb0871",
            "635719694a164b2dacaba91e84104d8d",
            "ba07557bc24e4ab886fd2bd33af38441",
            "cc592e70509549b38f03bcba71cef022",
            "f12b93260b7a467aa0f25a33391ae329",
            "e5b85e3e90ce4e4bb1fbee6fdce19250",
            "dcdb8efd9654429594f850d4a1de123f",
            "31cb676f9ce1458199abd8889ccf784f"
          ]
        },
        "outputId": "f931cb95-449c-417b-bfa0-836ba927d764"
      },
      "execution_count": 4,
      "outputs": [
        {
          "output_type": "stream",
          "name": "stdout",
          "text": [
            "Pikachu evolutionary line\n",
            "Select your Pokémon type between Pichu, Pikachu and Raichu\n"
          ]
        },
        {
          "output_type": "display_data",
          "data": {
            "text/plain": [
              "VBox(children=(FileUpload(value={}, description='Upload'), Output(), Label(value='')))"
            ],
            "application/vnd.jupyter.widget-view+json": {
              "version_major": 2,
              "version_minor": 0,
              "model_id": "f5bd8e8dec4248d9b7ff63f6e2911c73"
            }
          },
          "metadata": {}
        },
        {
          "output_type": "display_data",
          "data": {
            "text/plain": [
              "<IPython.core.display.HTML object>"
            ],
            "text/html": [
              "\n",
              "<style>\n",
              "    /* Turns off some styling */\n",
              "    progress {\n",
              "        /* gets rid of default border in Firefox and Opera. */\n",
              "        border: none;\n",
              "        /* Needs to be in here for Safari polyfill so background images work as expected. */\n",
              "        background-size: auto;\n",
              "    }\n",
              "    progress:not([value]), progress:not([value])::-webkit-progress-bar {\n",
              "        background: repeating-linear-gradient(45deg, #7e7e7e, #7e7e7e 10px, #5c5c5c 10px, #5c5c5c 20px);\n",
              "    }\n",
              "    .progress-bar-interrupted, .progress-bar-interrupted::-webkit-progress-bar {\n",
              "        background: #F44336;\n",
              "    }\n",
              "</style>\n"
            ]
          },
          "metadata": {}
        },
        {
          "output_type": "display_data",
          "data": {
            "text/plain": [
              "<IPython.core.display.HTML object>"
            ],
            "text/html": []
          },
          "metadata": {}
        }
      ]
    }
  ]
}
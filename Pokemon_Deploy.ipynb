{
  "nbformat": 4,
  "nbformat_minor": 0,
  "metadata": {
    "colab": {
      "provenance": [],
      "collapsed_sections": []
    },
    "kernelspec": {
      "name": "python3",
      "display_name": "Python 3"
    },
    "language_info": {
      "name": "python"
    },
    "accelerator": "GPU",
    "widgets": {
      "application/vnd.jupyter.widget-state+json": {
        "e42654b4d2754afb97feac32b3d657ed": {
          "model_module": "@jupyter-widgets/controls",
          "model_name": "VBoxModel",
          "model_module_version": "1.5.0",
          "state": {
            "_dom_classes": [],
            "_model_module": "@jupyter-widgets/controls",
            "_model_module_version": "1.5.0",
            "_model_name": "VBoxModel",
            "_view_count": null,
            "_view_module": "@jupyter-widgets/controls",
            "_view_module_version": "1.5.0",
            "_view_name": "VBoxView",
            "box_style": "",
            "children": [
              "IPY_MODEL_b49b19fc739b46a0bafebdc1d3ec6b9a",
              "IPY_MODEL_96f91d8d0cdf41bda0ed047128130257",
              "IPY_MODEL_df59be8d65d64b95a45cc59e6fc21fa0"
            ],
            "layout": "IPY_MODEL_e2f6182235e84f699b0dc14366eac322"
          }
        },
        "b49b19fc739b46a0bafebdc1d3ec6b9a": {
          "model_module": "@jupyter-widgets/controls",
          "model_name": "FileUploadModel",
          "model_module_version": "1.5.0",
          "state": {
            "_counter": 1,
            "_dom_classes": [],
            "_model_module": "@jupyter-widgets/controls",
            "_model_module_version": "1.5.0",
            "_model_name": "FileUploadModel",
            "_view_count": null,
            "_view_module": "@jupyter-widgets/controls",
            "_view_module_version": "1.5.0",
            "_view_name": "FileUploadView",
            "accept": "",
            "button_style": "",
            "data": [
              null
            ],
            "description": "Upload",
            "description_tooltip": null,
            "disabled": false,
            "error": "",
            "icon": "upload",
            "layout": "IPY_MODEL_5baccd4c5d9b4ec7ba25990077fe3002",
            "metadata": [
              {
                "name": "pikachu.png",
                "type": "image/png",
                "size": 118057,
                "lastModified": 1666983049986
              }
            ],
            "multiple": false,
            "style": "IPY_MODEL_6b13809fc3f446caa35948d1f958947d"
          }
        },
        "96f91d8d0cdf41bda0ed047128130257": {
          "model_module": "@jupyter-widgets/output",
          "model_name": "OutputModel",
          "model_module_version": "1.0.0",
          "state": {
            "_dom_classes": [],
            "_model_module": "@jupyter-widgets/output",
            "_model_module_version": "1.0.0",
            "_model_name": "OutputModel",
            "_view_count": null,
            "_view_module": "@jupyter-widgets/output",
            "_view_module_version": "1.0.0",
            "_view_name": "OutputView",
            "layout": "IPY_MODEL_ccb514120ff142d89d4b4df12af88f78",
            "msg_id": "",
            "outputs": [
              {
                "output_type": "display_data",
                "data": {
                  "text/plain": "<PIL.Image.Image image mode=RGB size=128x128>",
                  "image/png": "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\n"
                },
                "metadata": {}
              }
            ]
          }
        },
        "df59be8d65d64b95a45cc59e6fc21fa0": {
          "model_module": "@jupyter-widgets/controls",
          "model_name": "LabelModel",
          "model_module_version": "1.5.0",
          "state": {
            "_dom_classes": [],
            "_model_module": "@jupyter-widgets/controls",
            "_model_module_version": "1.5.0",
            "_model_name": "LabelModel",
            "_view_count": null,
            "_view_module": "@jupyter-widgets/controls",
            "_view_module_version": "1.5.0",
            "_view_name": "LabelView",
            "description": "",
            "description_tooltip": null,
            "layout": "IPY_MODEL_00e2543a009340ae99e5912cb99e9a80",
            "placeholder": "​",
            "style": "IPY_MODEL_2bce279a815f4877a9f56c4198e51d9c",
            "value": "Prediction: Pikachu; Probability: 0.9610"
          }
        },
        "e2f6182235e84f699b0dc14366eac322": {
          "model_module": "@jupyter-widgets/base",
          "model_name": "LayoutModel",
          "model_module_version": "1.2.0",
          "state": {
            "_model_module": "@jupyter-widgets/base",
            "_model_module_version": "1.2.0",
            "_model_name": "LayoutModel",
            "_view_count": null,
            "_view_module": "@jupyter-widgets/base",
            "_view_module_version": "1.2.0",
            "_view_name": "LayoutView",
            "align_content": null,
            "align_items": null,
            "align_self": null,
            "border": null,
            "bottom": null,
            "display": null,
            "flex": null,
            "flex_flow": null,
            "grid_area": null,
            "grid_auto_columns": null,
            "grid_auto_flow": null,
            "grid_auto_rows": null,
            "grid_column": null,
            "grid_gap": null,
            "grid_row": null,
            "grid_template_areas": null,
            "grid_template_columns": null,
            "grid_template_rows": null,
            "height": null,
            "justify_content": null,
            "justify_items": null,
            "left": null,
            "margin": null,
            "max_height": null,
            "max_width": null,
            "min_height": null,
            "min_width": null,
            "object_fit": null,
            "object_position": null,
            "order": null,
            "overflow": null,
            "overflow_x": null,
            "overflow_y": null,
            "padding": null,
            "right": null,
            "top": null,
            "visibility": null,
            "width": null
          }
        },
        "5baccd4c5d9b4ec7ba25990077fe3002": {
          "model_module": "@jupyter-widgets/base",
          "model_name": "LayoutModel",
          "model_module_version": "1.2.0",
          "state": {
            "_model_module": "@jupyter-widgets/base",
            "_model_module_version": "1.2.0",
            "_model_name": "LayoutModel",
            "_view_count": null,
            "_view_module": "@jupyter-widgets/base",
            "_view_module_version": "1.2.0",
            "_view_name": "LayoutView",
            "align_content": null,
            "align_items": null,
            "align_self": null,
            "border": null,
            "bottom": null,
            "display": null,
            "flex": null,
            "flex_flow": null,
            "grid_area": null,
            "grid_auto_columns": null,
            "grid_auto_flow": null,
            "grid_auto_rows": null,
            "grid_column": null,
            "grid_gap": null,
            "grid_row": null,
            "grid_template_areas": null,
            "grid_template_columns": null,
            "grid_template_rows": null,
            "height": null,
            "justify_content": null,
            "justify_items": null,
            "left": null,
            "margin": null,
            "max_height": null,
            "max_width": null,
            "min_height": null,
            "min_width": null,
            "object_fit": null,
            "object_position": null,
            "order": null,
            "overflow": null,
            "overflow_x": null,
            "overflow_y": null,
            "padding": null,
            "right": null,
            "top": null,
            "visibility": null,
            "width": null
          }
        },
        "6b13809fc3f446caa35948d1f958947d": {
          "model_module": "@jupyter-widgets/controls",
          "model_name": "ButtonStyleModel",
          "model_module_version": "1.5.0",
          "state": {
            "_model_module": "@jupyter-widgets/controls",
            "_model_module_version": "1.5.0",
            "_model_name": "ButtonStyleModel",
            "_view_count": null,
            "_view_module": "@jupyter-widgets/base",
            "_view_module_version": "1.2.0",
            "_view_name": "StyleView",
            "button_color": null,
            "font_weight": ""
          }
        },
        "00e2543a009340ae99e5912cb99e9a80": {
          "model_module": "@jupyter-widgets/base",
          "model_name": "LayoutModel",
          "model_module_version": "1.2.0",
          "state": {
            "_model_module": "@jupyter-widgets/base",
            "_model_module_version": "1.2.0",
            "_model_name": "LayoutModel",
            "_view_count": null,
            "_view_module": "@jupyter-widgets/base",
            "_view_module_version": "1.2.0",
            "_view_name": "LayoutView",
            "align_content": null,
            "align_items": null,
            "align_self": null,
            "border": null,
            "bottom": null,
            "display": null,
            "flex": null,
            "flex_flow": null,
            "grid_area": null,
            "grid_auto_columns": null,
            "grid_auto_flow": null,
            "grid_auto_rows": null,
            "grid_column": null,
            "grid_gap": null,
            "grid_row": null,
            "grid_template_areas": null,
            "grid_template_columns": null,
            "grid_template_rows": null,
            "height": null,
            "justify_content": null,
            "justify_items": null,
            "left": null,
            "margin": null,
            "max_height": null,
            "max_width": null,
            "min_height": null,
            "min_width": null,
            "object_fit": null,
            "object_position": null,
            "order": null,
            "overflow": null,
            "overflow_x": null,
            "overflow_y": null,
            "padding": null,
            "right": null,
            "top": null,
            "visibility": null,
            "width": null
          }
        },
        "2bce279a815f4877a9f56c4198e51d9c": {
          "model_module": "@jupyter-widgets/controls",
          "model_name": "DescriptionStyleModel",
          "model_module_version": "1.5.0",
          "state": {
            "_model_module": "@jupyter-widgets/controls",
            "_model_module_version": "1.5.0",
            "_model_name": "DescriptionStyleModel",
            "_view_count": null,
            "_view_module": "@jupyter-widgets/base",
            "_view_module_version": "1.2.0",
            "_view_name": "StyleView",
            "description_width": ""
          }
        },
        "ccb514120ff142d89d4b4df12af88f78": {
          "model_module": "@jupyter-widgets/base",
          "model_name": "LayoutModel",
          "model_module_version": "1.2.0",
          "state": {
            "_model_module": "@jupyter-widgets/base",
            "_model_module_version": "1.2.0",
            "_model_name": "LayoutModel",
            "_view_count": null,
            "_view_module": "@jupyter-widgets/base",
            "_view_module_version": "1.2.0",
            "_view_name": "LayoutView",
            "align_content": null,
            "align_items": null,
            "align_self": null,
            "border": null,
            "bottom": null,
            "display": null,
            "flex": null,
            "flex_flow": null,
            "grid_area": null,
            "grid_auto_columns": null,
            "grid_auto_flow": null,
            "grid_auto_rows": null,
            "grid_column": null,
            "grid_gap": null,
            "grid_row": null,
            "grid_template_areas": null,
            "grid_template_columns": null,
            "grid_template_rows": null,
            "height": null,
            "justify_content": null,
            "justify_items": null,
            "left": null,
            "margin": null,
            "max_height": null,
            "max_width": null,
            "min_height": null,
            "min_width": null,
            "object_fit": null,
            "object_position": null,
            "order": null,
            "overflow": null,
            "overflow_x": null,
            "overflow_y": null,
            "padding": null,
            "right": null,
            "top": null,
            "visibility": null,
            "width": null
          }
        }
      }
    }
  },
  "cells": [
    {
      "cell_type": "markdown",
      "source": [
        "# Pikachu evolutionary line"
      ],
      "metadata": {
        "id": "MNuc1fldPNQQ"
      }
    },
    {
      "cell_type": "markdown",
      "source": [
        "## Select your Pokémon type between Pichu, Pikachu and Raichu"
      ],
      "metadata": {
        "id": "CXOlqFkpu8Rr"
      }
    },
    {
      "cell_type": "code",
      "execution_count": 2,
      "metadata": {
        "id": "yxi_mlhdHuiC",
        "colab": {
          "base_uri": "https://localhost:8080/",
          "height": 1000
        },
        "outputId": "7d1fe44a-a618-4e01-ee31-59feb779d0b7"
      },
      "outputs": [
        {
          "output_type": "stream",
          "name": "stdout",
          "text": [
            "Looking in indexes: https://pypi.org/simple, https://us-python.pkg.dev/colab-wheels/public/simple/\n",
            "Collecting voila\n",
            "  Downloading voila-0.4.0-py3-none-any.whl (5.5 MB)\n",
            "\u001b[K     |████████████████████████████████| 5.5 MB 15.7 MB/s \n",
            "\u001b[?25hRequirement already satisfied: jupyter-client<=7.4.1,>=6.1.3 in /usr/local/lib/python3.7/dist-packages (from voila) (6.1.12)\n",
            "Requirement already satisfied: jupyter-core>=4.11.0 in /usr/local/lib/python3.7/dist-packages (from voila) (4.11.2)\n",
            "Collecting nbconvert<8,>=6.4.5\n",
            "  Downloading nbconvert-7.2.3-py3-none-any.whl (273 kB)\n",
            "\u001b[K     |████████████████████████████████| 273 kB 70.5 MB/s \n",
            "\u001b[?25hCollecting nbclient<0.8,>=0.4.0\n",
            "  Downloading nbclient-0.7.0-py3-none-any.whl (71 kB)\n",
            "\u001b[K     |████████████████████████████████| 71 kB 235 kB/s \n",
            "\u001b[?25hCollecting jupyterlab-server<3,>=2.3.0\n",
            "  Downloading jupyterlab_server-2.16.1-py3-none-any.whl (54 kB)\n",
            "\u001b[K     |████████████████████████████████| 54 kB 3.6 MB/s \n",
            "\u001b[?25hRequirement already satisfied: traitlets<6,>=5.0.3 in /usr/local/lib/python3.7/dist-packages (from voila) (5.1.1)\n",
            "Collecting websockets>=9.0\n",
            "  Downloading websockets-10.4-cp37-cp37m-manylinux_2_5_x86_64.manylinux1_x86_64.manylinux_2_17_x86_64.manylinux2014_x86_64.whl (106 kB)\n",
            "\u001b[K     |████████████████████████████████| 106 kB 65.6 MB/s \n",
            "\u001b[?25hCollecting jupyter-server<2.0.0,>=1.18\n",
            "  Downloading jupyter_server-1.21.0-py3-none-any.whl (346 kB)\n",
            "\u001b[K     |████████████████████████████████| 346 kB 72.5 MB/s \n",
            "\u001b[?25hRequirement already satisfied: pyzmq>=13 in /usr/local/lib/python3.7/dist-packages (from jupyter-client<=7.4.1,>=6.1.3->voila) (23.2.1)\n",
            "Requirement already satisfied: tornado>=4.1 in /usr/local/lib/python3.7/dist-packages (from jupyter-client<=7.4.1,>=6.1.3->voila) (5.1.1)\n",
            "Requirement already satisfied: python-dateutil>=2.1 in /usr/local/lib/python3.7/dist-packages (from jupyter-client<=7.4.1,>=6.1.3->voila) (2.8.2)\n",
            "Collecting argon2-cffi\n",
            "  Downloading argon2_cffi-21.3.0-py3-none-any.whl (14 kB)\n",
            "Requirement already satisfied: terminado>=0.8.3 in /usr/local/lib/python3.7/dist-packages (from jupyter-server<2.0.0,>=1.18->voila) (0.13.3)\n",
            "Collecting tornado>=4.1\n",
            "  Downloading tornado-6.2-cp37-abi3-manylinux_2_5_x86_64.manylinux1_x86_64.manylinux_2_17_x86_64.manylinux2014_x86_64.whl (423 kB)\n",
            "\u001b[K     |████████████████████████████████| 423 kB 71.2 MB/s \n",
            "\u001b[?25hCollecting prometheus-client\n",
            "  Downloading prometheus_client-0.15.0-py3-none-any.whl (60 kB)\n",
            "\u001b[K     |████████████████████████████████| 60 kB 9.0 MB/s \n",
            "\u001b[?25hRequirement already satisfied: packaging in /usr/local/lib/python3.7/dist-packages (from jupyter-server<2.0.0,>=1.18->voila) (21.3)\n",
            "Requirement already satisfied: nbformat>=5.2.0 in /usr/local/lib/python3.7/dist-packages (from jupyter-server<2.0.0,>=1.18->voila) (5.7.0)\n",
            "Requirement already satisfied: jinja2 in /usr/local/lib/python3.7/dist-packages (from jupyter-server<2.0.0,>=1.18->voila) (2.11.3)\n",
            "Requirement already satisfied: Send2Trash in /usr/local/lib/python3.7/dist-packages (from jupyter-server<2.0.0,>=1.18->voila) (1.8.0)\n",
            "Collecting websocket-client\n",
            "  Downloading websocket_client-1.4.1-py3-none-any.whl (55 kB)\n",
            "\u001b[K     |████████████████████████████████| 55 kB 4.1 MB/s \n",
            "\u001b[?25hCollecting anyio<4,>=3.1.0\n",
            "  Downloading anyio-3.6.2-py3-none-any.whl (80 kB)\n",
            "\u001b[K     |████████████████████████████████| 80 kB 11.1 MB/s \n",
            "\u001b[?25hCollecting sniffio>=1.1\n",
            "  Downloading sniffio-1.3.0-py3-none-any.whl (10 kB)\n",
            "Requirement already satisfied: typing-extensions in /usr/local/lib/python3.7/dist-packages (from anyio<4,>=3.1.0->jupyter-server<2.0.0,>=1.18->voila) (4.1.1)\n",
            "Requirement already satisfied: idna>=2.8 in /usr/local/lib/python3.7/dist-packages (from anyio<4,>=3.1.0->jupyter-server<2.0.0,>=1.18->voila) (2.10)\n",
            "Requirement already satisfied: jsonschema>=3.0.1 in /usr/local/lib/python3.7/dist-packages (from jupyterlab-server<3,>=2.3.0->voila) (4.3.3)\n",
            "Collecting json5\n",
            "  Downloading json5-0.9.10-py2.py3-none-any.whl (19 kB)\n",
            "Requirement already satisfied: requests in /usr/local/lib/python3.7/dist-packages (from jupyterlab-server<3,>=2.3.0->voila) (2.23.0)\n",
            "Collecting jinja2\n",
            "  Downloading Jinja2-3.1.2-py3-none-any.whl (133 kB)\n",
            "\u001b[K     |████████████████████████████████| 133 kB 70.4 MB/s \n",
            "\u001b[?25hRequirement already satisfied: babel in /usr/local/lib/python3.7/dist-packages (from jupyterlab-server<3,>=2.3.0->voila) (2.10.3)\n",
            "Requirement already satisfied: importlib-metadata>=4.8.3 in /usr/local/lib/python3.7/dist-packages (from jupyterlab-server<3,>=2.3.0->voila) (4.13.0)\n",
            "Requirement already satisfied: zipp>=0.5 in /usr/local/lib/python3.7/dist-packages (from importlib-metadata>=4.8.3->jupyterlab-server<3,>=2.3.0->voila) (3.9.0)\n",
            "Requirement already satisfied: MarkupSafe>=2.0 in /usr/local/lib/python3.7/dist-packages (from jinja2->jupyter-server<2.0.0,>=1.18->voila) (2.0.1)\n",
            "Requirement already satisfied: pyrsistent!=0.17.0,!=0.17.1,!=0.17.2,>=0.14.0 in /usr/local/lib/python3.7/dist-packages (from jsonschema>=3.0.1->jupyterlab-server<3,>=2.3.0->voila) (0.18.1)\n",
            "Requirement already satisfied: importlib-resources>=1.4.0 in /usr/local/lib/python3.7/dist-packages (from jsonschema>=3.0.1->jupyterlab-server<3,>=2.3.0->voila) (5.10.0)\n",
            "Requirement already satisfied: attrs>=17.4.0 in /usr/local/lib/python3.7/dist-packages (from jsonschema>=3.0.1->jupyterlab-server<3,>=2.3.0->voila) (22.1.0)\n",
            "Collecting nest-asyncio\n",
            "  Downloading nest_asyncio-1.5.6-py3-none-any.whl (5.2 kB)\n",
            "Collecting traitlets<6,>=5.0.3\n",
            "  Downloading traitlets-5.5.0-py3-none-any.whl (107 kB)\n",
            "\u001b[K     |████████████████████████████████| 107 kB 75.4 MB/s \n",
            "\u001b[?25hCollecting tinycss2\n",
            "  Downloading tinycss2-1.2.1-py3-none-any.whl (21 kB)\n",
            "Requirement already satisfied: pandocfilters>=1.4.1 in /usr/local/lib/python3.7/dist-packages (from nbconvert<8,>=6.4.5->voila) (1.5.0)\n",
            "Requirement already satisfied: pygments>=2.4.1 in /usr/local/lib/python3.7/dist-packages (from nbconvert<8,>=6.4.5->voila) (2.6.1)\n",
            "Requirement already satisfied: bleach in /usr/local/lib/python3.7/dist-packages (from nbconvert<8,>=6.4.5->voila) (5.0.1)\n",
            "Requirement already satisfied: beautifulsoup4 in /usr/local/lib/python3.7/dist-packages (from nbconvert<8,>=6.4.5->voila) (4.6.3)\n",
            "Requirement already satisfied: defusedxml in /usr/local/lib/python3.7/dist-packages (from nbconvert<8,>=6.4.5->voila) (0.7.1)\n",
            "Collecting jupyterlab-pygments\n",
            "  Downloading jupyterlab_pygments-0.2.2-py2.py3-none-any.whl (21 kB)\n",
            "Collecting mistune<3,>=2.0.3\n",
            "  Downloading mistune-2.0.4-py2.py3-none-any.whl (24 kB)\n",
            "Requirement already satisfied: fastjsonschema in /usr/local/lib/python3.7/dist-packages (from nbformat>=5.2.0->jupyter-server<2.0.0,>=1.18->voila) (2.16.2)\n",
            "Requirement already satisfied: six>=1.5 in /usr/local/lib/python3.7/dist-packages (from python-dateutil>=2.1->jupyter-client<=7.4.1,>=6.1.3->voila) (1.15.0)\n",
            "Requirement already satisfied: ptyprocess in /usr/local/lib/python3.7/dist-packages (from terminado>=0.8.3->jupyter-server<2.0.0,>=1.18->voila) (0.7.0)\n",
            "Collecting argon2-cffi-bindings\n",
            "  Downloading argon2_cffi_bindings-21.2.0-cp36-abi3-manylinux_2_17_x86_64.manylinux2014_x86_64.whl (86 kB)\n",
            "\u001b[K     |████████████████████████████████| 86 kB 6.5 MB/s \n",
            "\u001b[?25hRequirement already satisfied: cffi>=1.0.1 in /usr/local/lib/python3.7/dist-packages (from argon2-cffi-bindings->argon2-cffi->jupyter-server<2.0.0,>=1.18->voila) (1.15.1)\n",
            "Requirement already satisfied: pycparser in /usr/local/lib/python3.7/dist-packages (from cffi>=1.0.1->argon2-cffi-bindings->argon2-cffi->jupyter-server<2.0.0,>=1.18->voila) (2.21)\n",
            "Requirement already satisfied: pytz>=2015.7 in /usr/local/lib/python3.7/dist-packages (from babel->jupyterlab-server<3,>=2.3.0->voila) (2022.5)\n",
            "Requirement already satisfied: webencodings in /usr/local/lib/python3.7/dist-packages (from bleach->nbconvert<8,>=6.4.5->voila) (0.5.1)\n",
            "Requirement already satisfied: pyparsing!=3.0.5,>=2.0.2 in /usr/local/lib/python3.7/dist-packages (from packaging->jupyter-server<2.0.0,>=1.18->voila) (3.0.9)\n",
            "Requirement already satisfied: chardet<4,>=3.0.2 in /usr/local/lib/python3.7/dist-packages (from requests->jupyterlab-server<3,>=2.3.0->voila) (3.0.4)\n",
            "Requirement already satisfied: urllib3!=1.25.0,!=1.25.1,<1.26,>=1.21.1 in /usr/local/lib/python3.7/dist-packages (from requests->jupyterlab-server<3,>=2.3.0->voila) (1.24.3)\n",
            "Requirement already satisfied: certifi>=2017.4.17 in /usr/local/lib/python3.7/dist-packages (from requests->jupyterlab-server<3,>=2.3.0->voila) (2022.9.24)\n",
            "Installing collected packages: traitlets, tornado, nest-asyncio, tinycss2, sniffio, nbclient, mistune, jupyterlab-pygments, jinja2, argon2-cffi-bindings, websocket-client, prometheus-client, nbconvert, argon2-cffi, anyio, jupyter-server, json5, websockets, jupyterlab-server, voila\n",
            "  Attempting uninstall: traitlets\n",
            "    Found existing installation: traitlets 5.1.1\n",
            "    Uninstalling traitlets-5.1.1:\n",
            "      Successfully uninstalled traitlets-5.1.1\n",
            "  Attempting uninstall: tornado\n",
            "    Found existing installation: tornado 5.1.1\n",
            "    Uninstalling tornado-5.1.1:\n",
            "      Successfully uninstalled tornado-5.1.1\n",
            "  Attempting uninstall: mistune\n",
            "    Found existing installation: mistune 0.8.4\n",
            "    Uninstalling mistune-0.8.4:\n",
            "      Successfully uninstalled mistune-0.8.4\n",
            "  Attempting uninstall: jinja2\n",
            "    Found existing installation: Jinja2 2.11.3\n",
            "    Uninstalling Jinja2-2.11.3:\n",
            "      Successfully uninstalled Jinja2-2.11.3\n",
            "  Attempting uninstall: nbconvert\n",
            "    Found existing installation: nbconvert 5.6.1\n",
            "    Uninstalling nbconvert-5.6.1:\n",
            "      Successfully uninstalled nbconvert-5.6.1\n",
            "\u001b[31mERROR: pip's dependency resolver does not currently take into account all the packages that are installed. This behaviour is the source of the following dependency conflicts.\n",
            "ipython 7.9.0 requires jedi>=0.10, which is not installed.\n",
            "google-colab 1.0.0 requires tornado~=5.1.0, but you have tornado 6.2 which is incompatible.\n",
            "flask 1.1.4 requires Jinja2<3.0,>=2.10.1, but you have jinja2 3.1.2 which is incompatible.\u001b[0m\n",
            "Successfully installed anyio-3.6.2 argon2-cffi-21.3.0 argon2-cffi-bindings-21.2.0 jinja2-3.1.2 json5-0.9.10 jupyter-server-1.21.0 jupyterlab-pygments-0.2.2 jupyterlab-server-2.16.1 mistune-2.0.4 nbclient-0.7.0 nbconvert-7.2.3 nest-asyncio-1.5.6 prometheus-client-0.15.0 sniffio-1.3.0 tinycss2-1.2.1 tornado-6.2 traitlets-5.5.0 voila-0.4.0 websocket-client-1.4.1 websockets-10.4\n"
          ]
        },
        {
          "output_type": "display_data",
          "data": {
            "application/vnd.colab-display-data+json": {
              "pip_warning": {
                "packages": [
                  "tornado"
                ]
              }
            }
          },
          "metadata": {}
        },
        {
          "output_type": "stream",
          "name": "stdout",
          "text": [
            "\u001b[K\u001b[?25h\u001b[37;40mnpm\u001b[0m \u001b[0m\u001b[30;43mWARN\u001b[0m \u001b[0m\u001b[35msaveError\u001b[0m ENOENT: no such file or directory, open '/content/package.json'\n",
            "\u001b[0m\u001b[37;40mnpm\u001b[0m \u001b[0m\u001b[30;43mWARN\u001b[0m \u001b[0m\u001b[35menoent\u001b[0m ENOENT: no such file or directory, open '/content/package.json'\n",
            "\u001b[0m\u001b[37;40mnpm\u001b[0m \u001b[0m\u001b[30;43mWARN\u001b[0m\u001b[35m\u001b[0m @lumino/coreutils@1.12.1 requires a peer of crypto@1.0.1 but none is installed. You must install peer dependencies yourself.\n",
            "\u001b[0m\u001b[37;40mnpm\u001b[0m \u001b[0m\u001b[30;43mWARN\u001b[0m\u001b[35m\u001b[0m content No description\n",
            "\u001b[0m\u001b[37;40mnpm\u001b[0m \u001b[0m\u001b[30;43mWARN\u001b[0m\u001b[35m\u001b[0m content No repository field.\n",
            "\u001b[0m\u001b[37;40mnpm\u001b[0m \u001b[0m\u001b[30;43mWARN\u001b[0m\u001b[35m\u001b[0m content No README data\n",
            "\u001b[0m\u001b[37;40mnpm\u001b[0m \u001b[0m\u001b[30;43mWARN\u001b[0m\u001b[35m\u001b[0m content No license field.\n",
            "\u001b[0m\n",
            "\u001b[K\u001b[?25h+ @jupyter-widgets/controls@5.0.1\n",
            "updated 1 package and audited 102 packages in 0.716s\n",
            "\n",
            "2 packages are looking for funding\n",
            "  run `npm fund` for details\n",
            "\n",
            "found \u001b[92m0\u001b[0m vulnerabilities\n",
            "\n",
            "\u001b[K\u001b[?25h\n",
            "\u001b[33m\u001b[39m\n",
            "\u001b[33m   ╭────────────────────────────────────────────────────────────────╮\u001b[39m\n",
            "   \u001b[33m│\u001b[39m                                                                \u001b[33m│\u001b[39m\n",
            "   \u001b[33m│\u001b[39m      New \u001b[31mmajor\u001b[39m version of npm available! \u001b[31m6.14.8\u001b[39m → \u001b[32m8.19.2\u001b[39m       \u001b[33m│\u001b[39m\n",
            "   \u001b[33m│\u001b[39m   \u001b[33mChangelog:\u001b[39m \u001b[36mhttps://github.com/npm/cli/releases/tag/v8.19.2\u001b[39m   \u001b[33m│\u001b[39m\n",
            "   \u001b[33m│\u001b[39m               Run \u001b[32mnpm install -g npm\u001b[39m to update!                \u001b[33m│\u001b[39m\n",
            "   \u001b[33m│\u001b[39m                                                                \u001b[33m│\u001b[39m\n",
            "\u001b[33m   ╰────────────────────────────────────────────────────────────────╯\u001b[39m\n",
            "\u001b[33m\u001b[39m\n",
            "Enabling: voila\n",
            "- Writing config: /usr/etc/jupyter\n",
            "    - Validating...\n",
            "      voila 0.4.0 \u001b[32mOK\u001b[0m\n"
          ]
        }
      ],
      "source": [
        "from fastai.vision.all import *\n",
        "from fastai.vision.widgets import *\n",
        "!pip install voila\n",
        "!npm install --save @jupyter-widgets/controls\n",
        "!jupyter serverextension enable --sys-prefix voila "
      ]
    },
    {
      "cell_type": "code",
      "source": [
        "#import pkl file\n",
        "path = Path()\n",
        "learn_inf = load_learner(path/'export.pkl', cpu=True)"
      ],
      "metadata": {
        "id": "W26l4DkTIGYa"
      },
      "execution_count": null,
      "outputs": []
    },
    {
      "cell_type": "code",
      "source": [
        "#widgets\n",
        "upload = widgets.FileUpload()\n",
        "output = widgets.Output()\n",
        "predictor = widgets.Label()"
      ],
      "metadata": {
        "id": "4GXtjdHsxIhq"
      },
      "execution_count": null,
      "outputs": []
    },
    {
      "cell_type": "code",
      "source": [
        "def pokemon(change):\n",
        "    predictor.value = ''\n",
        "    img = PILImage.create(upload.data[-1])\n",
        "    output.clear_output()\n",
        "    with output: display(img.to_thumb(128,128))\n",
        "    pred,pred_idx,probs = learn_inf.predict(img)\n",
        "    predictor.value = f'Prediction: {pred}; Probability: {probs[pred_idx]:.04f}'\n",
        "\n",
        "upload.observe(pokemon, names=['data'])\n",
        "\n",
        "display(VBox([upload, output, predictor]))"
      ],
      "metadata": {
        "id": "b0mHL7zsIJIS",
        "colab": {
          "base_uri": "https://localhost:8080/",
          "height": 227,
          "referenced_widgets": [
            "e42654b4d2754afb97feac32b3d657ed",
            "b49b19fc739b46a0bafebdc1d3ec6b9a",
            "96f91d8d0cdf41bda0ed047128130257",
            "df59be8d65d64b95a45cc59e6fc21fa0",
            "e2f6182235e84f699b0dc14366eac322",
            "5baccd4c5d9b4ec7ba25990077fe3002",
            "6b13809fc3f446caa35948d1f958947d",
            "00e2543a009340ae99e5912cb99e9a80",
            "2bce279a815f4877a9f56c4198e51d9c",
            "ccb514120ff142d89d4b4df12af88f78"
          ]
        },
        "outputId": "3a6587ba-6f25-46d4-caec-c561227cc16d"
      },
      "execution_count": null,
      "outputs": [
        {
          "output_type": "stream",
          "name": "stdout",
          "text": [
            "Select your Pokémon type between Pichu, Pikachu and Raichu\n"
          ]
        },
        {
          "output_type": "display_data",
          "data": {
            "text/plain": [
              "VBox(children=(FileUpload(value={}, description='Upload'), Output(), Label(value='')))"
            ],
            "application/vnd.jupyter.widget-view+json": {
              "version_major": 2,
              "version_minor": 0,
              "model_id": "e42654b4d2754afb97feac32b3d657ed"
            }
          },
          "metadata": {}
        },
        {
          "output_type": "display_data",
          "data": {
            "text/plain": [
              "<IPython.core.display.HTML object>"
            ],
            "text/html": [
              "\n",
              "<style>\n",
              "    /* Turns off some styling */\n",
              "    progress {\n",
              "        /* gets rid of default border in Firefox and Opera. */\n",
              "        border: none;\n",
              "        /* Needs to be in here for Safari polyfill so background images work as expected. */\n",
              "        background-size: auto;\n",
              "    }\n",
              "    progress:not([value]), progress:not([value])::-webkit-progress-bar {\n",
              "        background: repeating-linear-gradient(45deg, #7e7e7e, #7e7e7e 10px, #5c5c5c 10px, #5c5c5c 20px);\n",
              "    }\n",
              "    .progress-bar-interrupted, .progress-bar-interrupted::-webkit-progress-bar {\n",
              "        background: #F44336;\n",
              "    }\n",
              "</style>\n"
            ]
          },
          "metadata": {}
        },
        {
          "output_type": "display_data",
          "data": {
            "text/plain": [
              "<IPython.core.display.HTML object>"
            ],
            "text/html": []
          },
          "metadata": {}
        }
      ]
    }
  ]
}